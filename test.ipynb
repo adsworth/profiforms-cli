{
 "cells": [
  {
   "cell_type": "code",
   "execution_count": 2,
   "metadata": {},
   "outputs": [
    {
     "name": "stdout",
     "output_type": "stream",
     "text": [
      "[{'KEY': 'LGNUM', 'VALUE': '8010'}]\n"
     ]
    }
   ],
   "source": [
    "import json\n",
    "from pprint import pprint\n",
    "\n",
    "_j = json.loads('[{ \"KEY\" : \"LGNUM\", \"VALUE\" : \"8010\" }]')\n",
    "\n",
    "pprint(_j)"
   ]
  }
 ],
 "metadata": {
  "kernelspec": {
   "display_name": "venv",
   "language": "python",
   "name": "python3"
  },
  "language_info": {
   "codemirror_mode": {
    "name": "ipython",
    "version": 3
   },
   "file_extension": ".py",
   "mimetype": "text/x-python",
   "name": "python",
   "nbconvert_exporter": "python",
   "pygments_lexer": "ipython3",
   "version": "3.10.8"
  },
  "orig_nbformat": 4,
  "vscode": {
   "interpreter": {
    "hash": "8593e606aa4805c7c232936a0d18425619f1f8e757d8bb1a484a6939f3f53481"
   }
  }
 },
 "nbformat": 4,
 "nbformat_minor": 2
}
